{
 "cells": [
  {
   "cell_type": "markdown",
   "id": "41c671ed",
   "metadata": {},
   "source": [
    "# 1.\n",
    "Napisz funkcję, która obliczy współczynnik korelacji liniowej Pearsona. Nie używaj żadnych gotowych funkcji."
   ]
  },
  {
   "cell_type": "code",
   "execution_count": 50,
   "id": "8d777fab",
   "metadata": {},
   "outputs": [],
   "source": [
    "def Pearson(x,y):\n",
    "    sum_x=0\n",
    "    sum_y=0\n",
    "    for i in x:\n",
    "        sum_x+=i\n",
    "    sum_x/=len(x)\n",
    "    \n",
    "    for i in y:\n",
    "        sum_y+=i\n",
    "    sum_y/=len(y)    \n",
    "    numerator=0\n",
    "    for i in range(len(x)):\n",
    "        xx=x[i]-sum_x\n",
    "        yy=y[i]-sum_y\n",
    "        numerator+=xx*yy    \n",
    "    x1=0\n",
    "    y1=0\n",
    "    for i in x:\n",
    "        x1+=(i-sum_x)**2\n",
    "    for i in y:\n",
    "        y1+=(i-sum_y)**2\n",
    "    denominator=x1**(1/2)*y1**(1/2)\n",
    "    \n",
    "    return numerator/denominator  "
   ]
  },
  {
   "cell_type": "code",
   "execution_count": 51,
   "id": "23bc0f4e",
   "metadata": {},
   "outputs": [
    {
     "data": {
      "text/plain": [
       "0.7181848464596078"
      ]
     },
     "execution_count": 51,
     "metadata": {},
     "output_type": "execute_result"
    }
   ],
   "source": [
    "Pearson([1,3,4,3],[2,4,6,8])"
   ]
  },
  {
   "cell_type": "markdown",
   "id": "5b6161d0",
   "metadata": {},
   "source": [
    "# 2 \n",
    "Napisz funkcję, która znajdzie współczynniki prostej regresji."
   ]
  },
  {
   "cell_type": "code",
   "execution_count": 64,
   "id": "140babf2",
   "metadata": {},
   "outputs": [],
   "source": [
    "import numpy as np\n",
    "\n",
    "def a(x,y):\n",
    "    mean_x=np.array(x).mean()\n",
    "    mean_y=np.array(y).mean()\n",
    "    numerator=0\n",
    "    for i in range(len(x)):\n",
    "        xx=x[i]-mean_x\n",
    "        yy=y[i]-mean_y\n",
    "        numerator+=xx*yy\n",
    "    denominator=0    \n",
    "    for i in range(len(x)):\n",
    "        denominator+=(x[i]-mean_x)**2\n",
    "    return numerator/denominator\n",
    "\n",
    "\n",
    "def b(x,y):\n",
    "    mean_x=np.array(x).mean()\n",
    "    mean_y=np.array(y).mean()\n",
    "    return mean_y-a(x,y)*mean_x"
   ]
  },
  {
   "cell_type": "code",
   "execution_count": 65,
   "id": "3bd49398",
   "metadata": {},
   "outputs": [
    {
     "data": {
      "text/plain": [
       "1.0"
      ]
     },
     "execution_count": 65,
     "metadata": {},
     "output_type": "execute_result"
    }
   ],
   "source": [
    "a([1,2],[3,4])"
   ]
  },
  {
   "cell_type": "code",
   "execution_count": 66,
   "id": "b57789da",
   "metadata": {},
   "outputs": [
    {
     "data": {
      "text/plain": [
       "2.0"
      ]
     },
     "execution_count": 66,
     "metadata": {},
     "output_type": "execute_result"
    }
   ],
   "source": [
    "b([1,2],[3,4])"
   ]
  },
  {
   "cell_type": "markdown",
   "id": "e1b6dc09",
   "metadata": {},
   "source": [
    "# 3\n",
    "Napisz funkcję, która wyrysuje zależność  x  i  y  z kwartetu Anscombe’a ze strony https://pl.wikipedia.org/wiki/Kwartet_Anscombe%E2%80%99a. Dane pobierz automatycznie."
   ]
  },
  {
   "cell_type": "code",
   "execution_count": 72,
   "id": "8ec049c6",
   "metadata": {},
   "outputs": [],
   "source": [
    "import pandas as pd\n",
    "anscombe=pd.read_html('https://pl.wikipedia.org/wiki/Kwartet_Anscombe%E2%80%99a', match='Kwartet',header=[0,1])\n",
    "anscombe=anscombe[0]\n",
    "anscombe"
   ]
  },
  {
   "cell_type": "code",
   "execution_count": 80,
   "id": "e1a9aaf2",
   "metadata": {},
   "outputs": [],
   "source": [
    "def plot(anscombe):\n",
    "    return anscombe.plot(('I', 'x'),(  'I', 'y'),kind = 'scatter')"
   ]
  },
  {
   "cell_type": "code",
   "execution_count": 81,
   "id": "5807b859",
   "metadata": {},
   "outputs": [
    {
     "data": {
      "text/plain": [
       "<AxesSubplot:xlabel='(I, x)', ylabel='(I, y)'>"
      ]
     },
     "execution_count": 81,
     "metadata": {},
     "output_type": "execute_result"
    },
    {
     "data": {
      "image/png": "[encoded data removed]",
      "text/plain": [
       "<Figure size 640x480 with 1 Axes>"
      ]
     },
     "metadata": {},
     "output_type": "display_data"
    }
   ],
   "source": [
    "plot(anscombe)"
   ]
  },
  {
   "cell_type": "markdown",
   "id": "d23dd16a",
   "metadata": {},
   "source": [
    "# 4\n",
    "Sprawdź współczynnik korelacji Pearsona."
   ]
  },
  {
   "cell_type": "code",
   "execution_count": 83,
   "id": "b007c1c6",
   "metadata": {},
   "outputs": [
    {
     "data": {
      "text/plain": [
       "0.81642051634484"
      ]
     },
     "execution_count": 83,
     "metadata": {},
     "output_type": "execute_result"
    }
   ],
   "source": [
    "Pearson(anscombe[('I', 'x')],anscombe[('I', 'y')])"
   ]
  },
  {
   "cell_type": "markdown",
   "id": "e5640186",
   "metadata": {},
   "source": [
    "# 5\n",
    "Do danych z punktu 3 zastosuj bibliotekę statsmodels i seaborn w celu uzyskania modelu prostej regresji i odpowiednich wykresów."
   ]
  },
  {
   "cell_type": "code",
   "execution_count": 97,
   "id": "1520ffd6",
   "metadata": {},
   "outputs": [
    {
     "name": "stdout",
     "output_type": "stream",
     "text": [
      "                            OLS Regression Results                            \n",
      "==============================================================================\n",
      "Dep. Variable:                      y   R-squared:                       0.667\n",
      "Model:                            OLS   Adj. R-squared:                  0.629\n",
      "Method:                 Least Squares   F-statistic:                     17.99\n",
      "Date:                Tue, 10 Jan 2023   Prob (F-statistic):            0.00217\n",
      "Time:                        18:52:47   Log-Likelihood:                -16.841\n",
      "No. Observations:                  11   AIC:                             37.68\n",
      "Df Residuals:                       9   BIC:                             38.48\n",
      "Df Model:                           1                                         \n",
      "Covariance Type:            nonrobust                                         \n",
      "==============================================================================\n",
      "                 coef    std err          t      P>|t|      [0.025      0.975]\n",
      "------------------------------------------------------------------------------\n",
      "Intercept      3.0001      1.125      2.667      0.026       0.456       5.544\n",
      "x              0.5001      0.118      4.241      0.002       0.233       0.767\n",
      "==============================================================================\n",
      "Omnibus:                        0.082   Durbin-Watson:                   3.212\n",
      "Prob(Omnibus):                  0.960   Jarque-Bera (JB):                0.289\n",
      "Skew:                          -0.122   Prob(JB):                        0.865\n",
      "Kurtosis:                       2.244   Cond. No.                         29.1\n",
      "==============================================================================\n",
      "\n",
      "Notes:\n",
      "[1] Standard Errors assume that the covariance matrix of the errors is correctly specified.\n"
     ]
    },
    {
     "name": "stderr",
     "output_type": "stream",
     "text": [
      "C:\\Users\\olaki\\anaconda3\\lib\\site-packages\\scipy\\stats\\_stats_py.py:1769: UserWarning: kurtosistest only valid for n>=20 ... continuing anyway, n=11\n",
      "  warnings.warn(\"kurtosistest only valid for n>=20 ... continuing \"\n"
     ]
    }
   ],
   "source": [
    "import statsmodels.api as sm\n",
    "import statsmodels.formula.api as smf\n",
    "\n",
    "dane=pd.DataFrame([anscombe[('I', 'x')],anscombe[('I', 'y')]],index=['x','y'])\n",
    "dane=dane.T\n",
    "\n",
    "mod = smf.ols(formula='y ~ x', data=dane)\n",
    "res = mod.fit()\n",
    "\n",
    "print(res.summary())\n"
   ]
  },
  {
   "cell_type": "markdown",
   "id": "e0631c39",
   "metadata": {},
   "source": [
    "Dopasowanie danych do modelu wynosi 0.667.\\\n",
    "y=3.0001+0.5001*x"
   ]
  },
  {
   "cell_type": "code",
   "execution_count": 96,
   "id": "04f14947",
   "metadata": {},
   "outputs": [
    {
     "data": {
      "text/plain": [
       "<AxesSubplot:xlabel='x', ylabel='y'>"
      ]
     },
     "execution_count": 96,
     "metadata": {},
     "output_type": "execute_result"
    },
    {
     "data": {
      "image/png": "[encoded data removed]",
      "text/plain": [
       "<Figure size 640x480 with 1 Axes>"
      ]
     },
     "metadata": {},
     "output_type": "display_data"
    }
   ],
   "source": [
    "import seaborn as sns\n",
    "\n",
    "sns.regplot(x=dane['x'],y=dane['y'],fit_reg=True)"
   ]
  }
 ],
 "metadata": {
  "kernelspec": {
   "display_name": "Python 3 (ipykernel)",
   "language": "python",
   "name": "python3"
  },
  "language_info": {
   "codemirror_mode": {
    "name": "ipython",
    "version": 3
   },
   "file_extension": ".py",
   "mimetype": "text/x-python",
   "name": "python",
   "nbconvert_exporter": "python",
   "pygments_lexer": "ipython3",
   "version": "3.9.13"
  }
 },
 "nbformat": 4,
 "nbformat_minor": 5
}
