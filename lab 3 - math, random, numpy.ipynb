{
 "cells": [
  {
   "cell_type": "markdown",
   "id": "5b20f6c5",
   "metadata": {},
   "source": [
    "# Zadanie 1\n",
    "Napisz funkcję, która sprawdzi czy w podanej macierzy występuję zadana wartość."
   ]
  },
  {
   "cell_type": "code",
   "execution_count": 26,
   "id": "cf996d1b",
   "metadata": {},
   "outputs": [
    {
     "data": {
      "text/plain": [
       "'Podana wartość występuje w macierzy'"
      ]
     },
     "execution_count": 26,
     "metadata": {},
     "output_type": "execute_result"
    }
   ],
   "source": [
    "import numpy as np\n",
    "\n",
    "def f1(m,n):\n",
    "    if np.any(m==n):\n",
    "        return \"Podana wartość występuje w macierzy\"\n",
    "    else:\n",
    "        return \"Podana wartość nie występuje w macierzy\"\n",
    "f1(np.array([[1,2],[3,4]]),2)    "
   ]
  },
  {
   "cell_type": "markdown",
   "id": "ec5dadf4",
   "metadata": {},
   "source": [
    "# Zadanie 2\n",
    "Napisz funkcję, która zwróci średnią geometryczną wektora liczb (liczby sa dodatnie)."
   ]
  },
  {
   "cell_type": "code",
   "execution_count": 11,
   "id": "1ec8a05f",
   "metadata": {},
   "outputs": [
    {
     "data": {
      "text/plain": [
       "2.213363839400643"
      ]
     },
     "execution_count": 11,
     "metadata": {},
     "output_type": "execute_result"
    }
   ],
   "source": [
    "def geometric_mean(w):\n",
    "    x=np.prod(w)\n",
    "    x**=1/w.size\n",
    "    return x\n",
    "geometric_mean(np.array([1,2,3,4]))"
   ]
  },
  {
   "cell_type": "markdown",
   "id": "c725b8aa",
   "metadata": {},
   "source": [
    "# Zadanie 3\n",
    "Napisz funkcję, która dla zadanych wektórów obliczy ich iloczyn skalarny."
   ]
  },
  {
   "cell_type": "code",
   "execution_count": 13,
   "id": "1ba08318",
   "metadata": {},
   "outputs": [
    {
     "data": {
      "text/plain": [
       "11"
      ]
     },
     "execution_count": 13,
     "metadata": {},
     "output_type": "execute_result"
    }
   ],
   "source": [
    "def scalar_product(x,y):\n",
    "    return np.dot(x,y)\n",
    "scalar_product(np.array([1,2]),np.array([3,4]))"
   ]
  },
  {
   "cell_type": "markdown",
   "id": "944a182e",
   "metadata": {},
   "source": [
    "# Zadanie 4\n",
    "Napisz funkcję, która wygeneruje macierz o zadanych rozmiarach z tą sama wartością liczbową ale bez użycia metody np.full()."
   ]
  },
  {
   "cell_type": "code",
   "execution_count": 17,
   "id": "308e0926",
   "metadata": {},
   "outputs": [
    {
     "data": {
      "text/plain": [
       "array([[2, 2, 2, 2, 2, 2, 2, 2, 2, 2],\n",
       "       [2, 2, 2, 2, 2, 2, 2, 2, 2, 2],\n",
       "       [2, 2, 2, 2, 2, 2, 2, 2, 2, 2],\n",
       "       [2, 2, 2, 2, 2, 2, 2, 2, 2, 2],\n",
       "       [2, 2, 2, 2, 2, 2, 2, 2, 2, 2],\n",
       "       [2, 2, 2, 2, 2, 2, 2, 2, 2, 2],\n",
       "       [2, 2, 2, 2, 2, 2, 2, 2, 2, 2],\n",
       "       [2, 2, 2, 2, 2, 2, 2, 2, 2, 2],\n",
       "       [2, 2, 2, 2, 2, 2, 2, 2, 2, 2],\n",
       "       [2, 2, 2, 2, 2, 2, 2, 2, 2, 2],\n",
       "       [2, 2, 2, 2, 2, 2, 2, 2, 2, 2],\n",
       "       [2, 2, 2, 2, 2, 2, 2, 2, 2, 2],\n",
       "       [2, 2, 2, 2, 2, 2, 2, 2, 2, 2],\n",
       "       [2, 2, 2, 2, 2, 2, 2, 2, 2, 2],\n",
       "       [2, 2, 2, 2, 2, 2, 2, 2, 2, 2]])"
      ]
     },
     "execution_count": 17,
     "metadata": {},
     "output_type": "execute_result"
    }
   ],
   "source": [
    "def full(x,n,n2):\n",
    "    return np.array([[x for i in range(n)]for j in range(n2)])\n",
    "full(2,10,15)"
   ]
  },
  {
   "cell_type": "markdown",
   "id": "c0fa9d2c",
   "metadata": {},
   "source": [
    "# Zadanie 5\n",
    "Napisz funkcję, która wygeneruje macierz kwadratową określonego rozmiaru n o zerach na przekątnej i jedynkach na pozostałych pozycjach."
   ]
  },
  {
   "cell_type": "code",
   "execution_count": 20,
   "id": "b96dba01",
   "metadata": {},
   "outputs": [
    {
     "data": {
      "text/plain": [
       "array([[1, 0, 0, 0, 0],\n",
       "       [0, 1, 0, 0, 0],\n",
       "       [0, 0, 1, 0, 0],\n",
       "       [0, 0, 0, 1, 0],\n",
       "       [0, 0, 0, 0, 1]])"
      ]
     },
     "execution_count": 20,
     "metadata": {},
     "output_type": "execute_result"
    }
   ],
   "source": [
    "def fill(n):\n",
    "    matrix=np.array([[0 for i in range(n)]for j in range(n)])\n",
    "    np.fill_diagonal(matrix,1)\n",
    "    return matrix\n",
    "fill(5)"
   ]
  },
  {
   "cell_type": "markdown",
   "id": "eebae835",
   "metadata": {},
   "source": [
    "# Zadanie 6\n",
    "Napisz funkcję, która zamieni wszystkie ujemne wartości w macierzy na 0."
   ]
  },
  {
   "cell_type": "code",
   "execution_count": 33,
   "id": "fcdee913",
   "metadata": {},
   "outputs": [
    {
     "data": {
      "text/plain": [
       "array([[1, 0],\n",
       "       [0, 9]])"
      ]
     },
     "execution_count": 33,
     "metadata": {},
     "output_type": "execute_result"
    }
   ],
   "source": [
    "def positive(m):\n",
    "    for i,j in np.ndenumerate(m):\n",
    "        if j<0:\n",
    "            m[i]=0\n",
    "    return m        \n",
    "        \n",
    "positive(np.array([[1,-3],[-5,9]]))        "
   ]
  },
  {
   "cell_type": "markdown",
   "id": "528ae195",
   "metadata": {},
   "source": [
    "# Zadanie 7\n",
    "Napisz funkcję, która zwróci n największych wartości z zadanej macierzy."
   ]
  },
  {
   "cell_type": "code",
   "execution_count": 63,
   "id": "47f10f4a",
   "metadata": {},
   "outputs": [
    {
     "name": "stdout",
     "output_type": "stream",
     "text": [
      "[10  9  8  7]\n",
      "[10  9  8  7]\n"
     ]
    }
   ],
   "source": [
    "def n_max(m,n):\n",
    "    m=m.flatten()\n",
    "    return m[np.argsort(m)[::-1][:n]]\n",
    "print(n_max(np.array([[1,2,6,7],[10,8,9,3]]),4))\n",
    "def n_max2(m,n):\n",
    "    return np.sort(m,axis=None)[n:][::-1]\n",
    "\n",
    "print(n_max2(np.array([[1,2,6,7],[10,8,9,3]]),4))"
   ]
  },
  {
   "cell_type": "markdown",
   "id": "b97497a5",
   "metadata": {},
   "source": [
    "# Zadanie 8\n",
    "Napisz funkcję, która zwróci najczęściej powtarzający się element macierzy."
   ]
  },
  {
   "cell_type": "code",
   "execution_count": 96,
   "id": "4a888341",
   "metadata": {},
   "outputs": [
    {
     "data": {
      "text/plain": [
       "'Najczęściej powtarzający sie element to: 2'"
      ]
     },
     "execution_count": 96,
     "metadata": {},
     "output_type": "execute_result"
    }
   ],
   "source": [
    "def occurs(m):\n",
    "    m=m.flatten()\n",
    "    return \"Najczęściej powtarzający sie element to: \"+str(np.argmax(np.bincount(m)))\n",
    "occurs(np.array([[2,2,3,4],[3,2,5,2]]))"
   ]
  },
  {
   "cell_type": "markdown",
   "id": "72adc2c6",
   "metadata": {},
   "source": [
    "# Zadanie 9\n",
    "Napisz funkcję, która dla zadanej macierzy 2d zwróci wiersze z unikalnymi (niepowtarzającymi się) wartośćiami."
   ]
  },
  {
   "cell_type": "code",
   "execution_count": 98,
   "id": "5678ad17",
   "metadata": {},
   "outputs": [
    {
     "data": {
      "text/plain": [
       "array([1, 2, 5, 6, 7, 8, 9])"
      ]
     },
     "execution_count": 98,
     "metadata": {},
     "output_type": "execute_result"
    }
   ],
   "source": [
    "def unique(m):\n",
    "    return np.unique(m)\n",
    "unique(np.array([[1,2,2],[2,5,5],[6,7,7],[9,8,6],[9,6,5]]))"
   ]
  },
  {
   "cell_type": "markdown",
   "id": "da287ecf",
   "metadata": {},
   "source": [
    "# Zadanie 10\n",
    "Napisz funkcję, która obliczy odległość (np. euklidesową) dwóch punktów  P1  i  P2  w  Rn ."
   ]
  },
  {
   "cell_type": "code",
   "execution_count": 105,
   "id": "ec305c31",
   "metadata": {},
   "outputs": [
    {
     "name": "stdout",
     "output_type": "stream",
     "text": [
      "2.0\n",
      "2.0\n"
     ]
    }
   ],
   "source": [
    "def euclidean_distance(a,b):\n",
    "    return np.linalg.norm(a-b)\n",
    "print(euclidean_distance(np.array([1,2]),np.array([3,2])))\n",
    "\n",
    "def euclidean_distance2(a,b):\n",
    "    return np.sum(np.abs(a-b)**2)**1/2\n",
    "print(euclidean_distance2(np.array([1,2]),np.array([3,2])))"
   ]
  },
  {
   "cell_type": "markdown",
   "id": "2f3059a4",
   "metadata": {},
   "source": [
    "# Zadanie 11\n",
    "Napisz funkcję, która sprawdzi czy podana macierz X o rozmiarze 2x2 jest rozwiązaniem równania macierzowego  aX^2+bX+c=0 , gdzie  a,b,c  to zadane macierze."
   ]
  },
  {
   "cell_type": "code",
   "execution_count": 155,
   "id": "8d7d1767",
   "metadata": {},
   "outputs": [
    {
     "data": {
      "text/plain": [
       "'Macierz X jest rozwiązaniem'"
      ]
     },
     "execution_count": 155,
     "metadata": {},
     "output_type": "execute_result"
    }
   ],
   "source": [
    "def solve(a,b,c,X):\n",
    "    eq=a@np.linalg.matrix_power(X,2)+b@X+c\n",
    "    if np.array_equal(eq,np.zeros((2,2))):\n",
    "        return \"Macierz X jest rozwiązaniem\"\n",
    "    else:\n",
    "        return \"Macierz X nie jest rozwiązaniem\"\n",
    "    \n",
    "solve(np.array([[1,1],[1,1]]),np.array([[5,5],[5,5]]),np.array([[6,6],[6,6]]),np.array([[-1,-1],[-1,-1]]))"
   ]
  },
  {
   "cell_type": "markdown",
   "id": "773dded3",
   "metadata": {},
   "source": [
    "# Zadanie 12\n",
    "Napisz funkcję, która obliczy n-tą liczbę Fibonacciego wykorzystując potęgowanie macierzy [[1,1],[1,0]] (https://pl.wikipedia.org/wiki/Ci%C4%85g_Fibonacciego#Macierze_liczb_Fibonacciego)."
   ]
  },
  {
   "cell_type": "code",
   "execution_count": 141,
   "id": "c8113cf4",
   "metadata": {},
   "outputs": [
    {
     "data": {
      "text/plain": [
       "'5 liczba Fibonacciego to 5'"
      ]
     },
     "execution_count": 141,
     "metadata": {},
     "output_type": "execute_result"
    }
   ],
   "source": [
    "def Fibonacci(n):\n",
    "    f=np.array([[1,1],[1,0]])\n",
    "    f=np.linalg.matrix_power(f, 5)\n",
    "    return str(n)+\" liczba Fibonacciego to \" +str(f[0,1])\n",
    "Fibonacci(5)"
   ]
  },
  {
   "cell_type": "markdown",
   "id": "f5beb6ce",
   "metadata": {},
   "source": [
    "# Zadanie 13\n",
    "Napisz funkcję, która obliczy n-tą liczbę Fibonacciego wykorzystując wzór Bineta (https://pl.wikipedia.org/wiki/Ci%C4%85g_Fibonacciego#Wz%C3%B3r_Bineta)."
   ]
  },
  {
   "cell_type": "code",
   "execution_count": 25,
   "id": "dca57c73",
   "metadata": {},
   "outputs": [
    {
     "data": {
      "text/plain": [
       "5.000000000000001"
      ]
     },
     "execution_count": 25,
     "metadata": {},
     "output_type": "execute_result"
    }
   ],
   "source": [
    "import math\n",
    "\n",
    "def Fibonacci_Binet(n):\n",
    "    x=1/math.sqrt(5)*((1+math.sqrt(5))/2)**n-(1/math.sqrt(5))*((1-math.sqrt(5))/2)**n\n",
    "    return x\n",
    "                                                                    \n",
    "Fibonacci_Binet(5)                                                                    "
   ]
  },
  {
   "cell_type": "markdown",
   "id": "fda67a73",
   "metadata": {},
   "source": [
    "# Zadanie 14\n",
    "Napisz funkcję, która wygeneruje macierz o losowych elementach (liczby całkowite z zadanego zakresu) o zadanej z góry wartości śladu macierzy (ang. trace)."
   ]
  },
  {
   "cell_type": "code",
   "execution_count": 51,
   "id": "40161f74",
   "metadata": {},
   "outputs": [
    {
     "data": {
      "text/plain": [
       "array([[1, 0],\n",
       "       [0, 1]])"
      ]
     },
     "execution_count": 51,
     "metadata": {},
     "output_type": "execute_result"
    }
   ],
   "source": [
    "def matrix(a,b,t):\n",
    "    m=np.random.randint(a,b,(2,2))\n",
    "    while np.trace(m)!=t:\n",
    "        m=np.random.randint(a,b,(2,2))\n",
    "    return m\n",
    "\n",
    "matrix(0,2,2)"
   ]
  }
 ],
 "metadata": {
  "kernelspec": {
   "display_name": "Python 3 (ipykernel)",
   "language": "python",
   "name": "python3"
  },
  "language_info": {
   "codemirror_mode": {
    "name": "ipython",
    "version": 3
   },
   "file_extension": ".py",
   "mimetype": "text/x-python",
   "name": "python",
   "nbconvert_exporter": "python",
   "pygments_lexer": "ipython3",
   "version": "3.9.13"
  }
 },
 "nbformat": 4,
 "nbformat_minor": 5
}
